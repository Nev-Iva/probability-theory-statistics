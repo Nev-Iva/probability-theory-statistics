{
 "cells": [
  {
   "cell_type": "markdown",
   "metadata": {},
   "source": [
    "### Урок 2. Дискретные случайные величины. Закон распределения вероятностей. Биномиальный закон распределения. Распределение Пуассона"
   ]
  },
  {
   "cell_type": "markdown",
   "metadata": {},
   "source": [
    "- 1. Вероятность того, что стрелок попадет в мишень, выстрелив один раз, равна 0.8. Стрелок выстрелил 100 раз. Найдите вероятность того, что стрелок попадет в цель ровно 85 раз."
   ]
  },
  {
   "cell_type": "code",
   "execution_count": 9,
   "metadata": {},
   "outputs": [],
   "source": [
    "from math import factorial, e"
   ]
  },
  {
   "cell_type": "code",
   "execution_count": 10,
   "metadata": {},
   "outputs": [],
   "source": [
    "def combinations(n, k):\n",
    "    return int(factorial(n) / (factorial(k) * factorial(n - k)))"
   ]
  },
  {
   "cell_type": "code",
   "execution_count": 11,
   "metadata": {},
   "outputs": [],
   "source": [
    "def bernulli(n, k, p, q):\n",
    "    return (factorial(n) / (factorial(k) * factorial(n - k))) * (p**k) * q**(n - k)"
   ]
  },
  {
   "cell_type": "code",
   "execution_count": 12,
   "metadata": {},
   "outputs": [
    {
     "name": "stdout",
     "output_type": "stream",
     "text": [
      "Найдите вероятность того, что стрелок попадет в цель ровно 85 раз: 0.048061793700746556\n"
     ]
    }
   ],
   "source": [
    "bern = bernulli(100, 85, 0.8, 0.2)\n",
    "print('Найдите вероятность того, что стрелок попадет в цель ровно 85 раз: {0}'.format(bern))"
   ]
  },
  {
   "cell_type": "markdown",
   "metadata": {},
   "source": [
    "- 2. Вероятность того, что лампочка перегорит в течение первого дня эксплуатации, равна 0.0004. В жилом комплексе после ремонта в один день включили 5000 новых лампочек. Какова вероятность, что ни одна из них не перегорит в первый день? Какова вероятность, что перегорят ровно две?"
   ]
  },
  {
   "cell_type": "code",
   "execution_count": 13,
   "metadata": {},
   "outputs": [],
   "source": [
    "def puasson(n, m, p):\n",
    "    lam = p * n\n",
    "    return (lam**m / factorial(m)) * e**(-lam)"
   ]
  },
  {
   "cell_type": "code",
   "execution_count": 14,
   "metadata": {},
   "outputs": [
    {
     "name": "stdout",
     "output_type": "stream",
     "text": [
      "Вероятность, что ни одна из них не перегорит в первый день: 0.1353352832366127\n",
      "Вероятность, что перегорят ровно две: 0.2706705664732254\n"
     ]
    }
   ],
   "source": [
    "prob_1 = puasson(5000, 0, 0.0004)\n",
    "prob_2 = puasson(5000, 2, 0.0004)\n",
    "print('Вероятность, что ни одна из них не перегорит в первый день: {0}'.format(prob_1))\n",
    "print('Вероятность, что перегорят ровно две: {0}'.format(prob_2))"
   ]
  },
  {
   "cell_type": "markdown",
   "metadata": {},
   "source": [
    "- 3. Монету подбросили 144 раза. Какова вероятность, что орел выпадет ровно 70 раз?"
   ]
  },
  {
   "cell_type": "code",
   "execution_count": 15,
   "metadata": {},
   "outputs": [
    {
     "name": "stdout",
     "output_type": "stream",
     "text": [
      "Вероятность, что орел выпадет ровно 70 раз: 0.06281178035144776\n"
     ]
    }
   ],
   "source": [
    "bern_3 = bernulli(144, 70, 0.5, 0.5)\n",
    "print('Вероятность, что орел выпадет ровно 70 раз: {0}'.format(bern_3))"
   ]
  },
  {
   "cell_type": "markdown",
   "metadata": {},
   "source": [
    "- 4. В первом ящике находится 10 мячей, из которых 7 - белые. Во втором ящике - 11 мячей, из которых 9 белых. Из каждого ящика вытаскивают случайным образом по два мяча. Какова вероятность того, что все мячи белые? Какова вероятность того, что ровно два мяча белые? Какова вероятность того, что хотя бы один мяч белый?"
   ]
  },
  {
   "cell_type": "code",
   "execution_count": 16,
   "metadata": {},
   "outputs": [
    {
     "name": "stdout",
     "output_type": "stream",
     "text": [
      "Вероятность того, что все мячи белые: 0.3054545454545454\n"
     ]
    }
   ],
   "source": [
    "prob_4 = (7/10)*(6/9)*(9/11)*(8/10)\n",
    "print('Вероятность того, что все мячи белые: {0}'.format(prob_4))"
   ]
  }
 ],
 "metadata": {
  "kernelspec": {
   "display_name": "Python 3",
   "language": "python",
   "name": "python3"
  },
  "language_info": {
   "codemirror_mode": {
    "name": "ipython",
    "version": 3
   },
   "file_extension": ".py",
   "mimetype": "text/x-python",
   "name": "python",
   "nbconvert_exporter": "python",
   "pygments_lexer": "ipython3",
   "version": "3.7.6"
  }
 },
 "nbformat": 4,
 "nbformat_minor": 4
}
