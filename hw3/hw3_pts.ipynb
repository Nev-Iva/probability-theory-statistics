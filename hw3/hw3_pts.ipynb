{
 "cells": [
  {
   "cell_type": "markdown",
   "metadata": {},
   "source": [
    "### Урок 3. Описательная статистика. Качественные и количественные характеристики популяции. Графическое представление данных"
   ]
  },
  {
   "cell_type": "code",
   "execution_count": 1,
   "metadata": {},
   "outputs": [],
   "source": [
    "from math import factorial \n",
    "import numpy as np"
   ]
  },
  {
   "cell_type": "code",
   "execution_count": 2,
   "metadata": {},
   "outputs": [],
   "source": [
    "def combinations(n, k):\n",
    "    return int(factorial(n) / (factorial(k) * factorial(n - k)))"
   ]
  },
  {
   "cell_type": "markdown",
   "metadata": {},
   "source": [
    "- Даны значения зарплат из выборки выпускников: 100, 80, 75, 77, 89, 33, 45, 25, 65, 17, 30, 24, 57, 55, 70, 75, 65, 84, 90, 150. Посчитать (желательно без использования статистических методов наподобие std, var, mean) среднее арифметическое, среднее квадратичное отклонение, смещенную и несмещенную оценки дисперсий для данной выборки."
   ]
  },
  {
   "cell_type": "code",
   "execution_count": 18,
   "metadata": {},
   "outputs": [],
   "source": [
    "stud_money = np.array([100, 80, 75, 77, 89, 33, 45, 25, 65, 17, 30, 24, 57, 55, 70, 75, 65, 84, 90, 150])\n",
    "mean_num = sum(stud_money) / len(stud_money)\n",
    "k = 0\n",
    "for i in range(len(stud_money)):\n",
    "               k += (stud_money[i] - mean_ar) ** 2\n",
    "m_square_dev = np.sqrt((dif / len(stud_money) - 1))\n",
    "j = 0\n",
    "for i in range(len(stud_money)):\n",
    "               j += (stud_money[i] - mean_ar) ** 2\n",
    "biased_estimate = (j / len(stud_money))"
   ]
  },
  {
   "cell_type": "code",
   "execution_count": 19,
   "metadata": {},
   "outputs": [
    {
     "name": "stdout",
     "output_type": "stream",
     "text": [
      "Среднее арифметическое: 65.3\n",
      "Среднее квадратичное отклонение: 30.807628925316536\n",
      "Несмещенная оценка: 949.1100000000001\n",
      "Смещенная оценка: 950.11\n"
     ]
    }
   ],
   "source": [
    "print('Среднее арифметическое: {0}'.format(mean_num))\n",
    "print('Среднее квадратичное отклонение: {0}'.format(m_square_dev))\n",
    "print('Несмещенная оценка: {0}'.format(m_square_dev**2))\n",
    "print('Смещенная оценка: {0}'.format(biased_estimate))"
   ]
  },
  {
   "cell_type": "markdown",
   "metadata": {},
   "source": [
    "- В первом ящике находится 8 мячей, из которых 5 - белые. Во втором ящике - 12 мячей, из которых 5 белых. Из первого ящика вытаскивают случайным образом два мяча, из второго - 4. Какова вероятность того, что 3 мяча белые?"
   ]
  },
  {
   "cell_type": "code",
   "execution_count": 20,
   "metadata": {},
   "outputs": [],
   "source": [
    "prob_1 = (combinations(5, 2) / combinations(8, 2)) * ((combinations(5, 1) * combinations(7, 3)) / combinations(12, 4))\n",
    "prob_2 = ((combinations(5, 1) * combinations(3,1)) / combinations(8, 2)) * ((combinations(5, 2) * combinations(7, 2) / combinations(12,4)))\n",
    "prob_3 = (combinations(3, 2) / combinations(8, 2) * ((combinations(5, 3) * combinations(7, 1)) / combinations(12, 4)))"
   ]
  },
  {
   "cell_type": "code",
   "execution_count": 22,
   "metadata": {},
   "outputs": [
    {
     "name": "stdout",
     "output_type": "stream",
     "text": [
      "Вероятность того, что 3 мяча белые: 0.3686868686868687\n"
     ]
    }
   ],
   "source": [
    "prob = prob_1 + prob_2 + prob_3\n",
    "print('Вероятность того, что 3 мяча белые: {0}'.format(prob))"
   ]
  },
  {
   "cell_type": "markdown",
   "metadata": {},
   "source": [
    "- На соревновании по биатлону один из трех спортсменов стреляет и попадает в мишень. Вероятность попадания для первого спортсмена равна 0.9, для второго — 0.8, для третьего — 0.6. Найти вероятность того, что выстрел произведен: a). первым спортсменом б). вторым спортсменом в). третьим спортсменом."
   ]
  },
  {
   "cell_type": "code",
   "execution_count": 24,
   "metadata": {},
   "outputs": [],
   "source": [
    "prob_a = 1/3 * 0.9 + 1/3 * 0.8 + 1/3 * 0.6\n",
    "prob_1 = (1/3 * 0.9) / prob_a\n",
    "prob_2 = (1/3 * 0.8) / prob_a\n",
    "prob_3 = (1/3 * 0.6) / prob_a"
   ]
  },
  {
   "cell_type": "code",
   "execution_count": 25,
   "metadata": {},
   "outputs": [
    {
     "name": "stdout",
     "output_type": "stream",
     "text": [
      "a: 0.391304347826087\n",
      "б: 0.3478260869565218\n",
      "в: 0.2608695652173913\n"
     ]
    }
   ],
   "source": [
    "print('a: {0}'.format(prob_1))\n",
    "print('б: {0}'.format(prob_2))\n",
    "print('в: {0}'.format(prob_3))"
   ]
  },
  {
   "cell_type": "markdown",
   "metadata": {},
   "source": [
    "- В университет на факультеты A и B поступило равное количество студентов, а на факультет C студентов поступило столько же, сколько на A и B вместе. Вероятность того, что студент факультета A сдаст первую сессию, равна 0.8. Для студента факультета B эта вероятность равна 0.7, а для студента факультета C - 0.9. Студент сдал первую сессию. Какова вероятность, что он учится: a). на факультете A б). на факультете B в). на факультете C?"
   ]
  },
  {
   "cell_type": "code",
   "execution_count": 26,
   "metadata": {},
   "outputs": [],
   "source": [
    "prob_a = 1/4 * 0.8 + 1/4 * 0.7 + 1/2 * 0.9\n",
    "prob_1 = (1/4 * 0.8) / prob_a\n",
    "prob_2 = (1/4 * 0.7) / prob_a\n",
    "prob_3 = (1/2 * 0.9) / prob_a"
   ]
  },
  {
   "cell_type": "code",
   "execution_count": 27,
   "metadata": {},
   "outputs": [
    {
     "name": "stdout",
     "output_type": "stream",
     "text": [
      "a: 0.24242424242424246\n",
      "б: 0.21212121212121213\n",
      "в: 0.5454545454545455\n"
     ]
    }
   ],
   "source": [
    "print('a: {0}'.format(prob_1))\n",
    "print('б: {0}'.format(prob_2))\n",
    "print('в: {0}'.format(prob_3))"
   ]
  },
  {
   "cell_type": "markdown",
   "metadata": {},
   "source": [
    "- Устройство состоит из трех деталей. Для первой детали вероятность выйти из строя в первый месяц равна 0.1, для второй - 0.2, для третьей - 0.25. Какова вероятность того, что в первый месяц выйдут из строя: а). все детали б). только две детали в). хотя бы одна деталь г). от одной до двух деталей?"
   ]
  },
  {
   "cell_type": "code",
   "execution_count": 31,
   "metadata": {},
   "outputs": [],
   "source": [
    "prob_1 = 0.1\n",
    "prob_2 = 0.2\n",
    "prob_3 = 0.25\n",
    "prob_correct_1 = 1 - prob_1\n",
    "prob_correct_2 = 1 - prob_2\n",
    "prob_correct_3 = 1 - prob_3"
   ]
  },
  {
   "cell_type": "code",
   "execution_count": 32,
   "metadata": {},
   "outputs": [],
   "source": [
    "break_all = prob_1 * prob_2 * prob_3\n",
    "break_two = prob_1 * prob_2 * prob_correct_3 + prob_1 * prob_3 * prob_correct_2 + prob_2 * prob_3 * prob_correct_1\n",
    "break_atleast_one = prob_1 * prob_correct_1 * prob_correct_3 + prob_2 * prob_correct_1 * prob_correct_3 + prob_3 * prob_correct_1 * prob_correct_2\n",
    "break_one_two = atleast_one_failed + two_failed"
   ]
  },
  {
   "cell_type": "code",
   "execution_count": 33,
   "metadata": {},
   "outputs": [
    {
     "name": "stdout",
     "output_type": "stream",
     "text": [
      "а). все детали: 0.005000000000000001\n",
      "б). только две детали: 0.08000000000000002\n",
      "в). хотя бы одна деталь: 0.38250000000000006\n",
      "г). от одной до двух деталей: 0.4625000000000001\n"
     ]
    }
   ],
   "source": [
    "print('а). все детали: {0}'.format(break_all))\n",
    "print('б). только две детали: {0}'.format(break_two))\n",
    "print('в). хотя бы одна деталь: {0}'.format(break_atleast_one))\n",
    "print('г). от одной до двух деталей: {0}'.format(break_one_two))"
   ]
  }
 ],
 "metadata": {
  "kernelspec": {
   "display_name": "Python 3",
   "language": "python",
   "name": "python3"
  },
  "language_info": {
   "codemirror_mode": {
    "name": "ipython",
    "version": 3
   },
   "file_extension": ".py",
   "mimetype": "text/x-python",
   "name": "python",
   "nbconvert_exporter": "python",
   "pygments_lexer": "ipython3",
   "version": "3.7.6"
  }
 },
 "nbformat": 4,
 "nbformat_minor": 4
}
