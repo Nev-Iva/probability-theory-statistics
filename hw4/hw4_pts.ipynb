{
 "cells": [
  {
   "cell_type": "markdown",
   "metadata": {},
   "source": [
    "### Урок 4. Непрерывные случайные величины. Функция распределения и плотность распределения вероятностей. Равномерное и нормальное распределение. Центральная предельная теорема"
   ]
  },
  {
   "cell_type": "markdown",
   "metadata": {},
   "source": [
    "- Случайная непрерывная величина A имеет равномерное распределение на промежутке (200, 800].\n",
    "Найдите ее среднее значение и дисперсию."
   ]
  },
  {
   "cell_type": "code",
   "execution_count": 10,
   "metadata": {},
   "outputs": [
    {
     "name": "stdout",
     "output_type": "stream",
     "text": [
      "Среднее значение: 500.0\n",
      "Дисперсия: 30000.0\n"
     ]
    }
   ],
   "source": [
    "m_value = (800 + 200)/ 2\n",
    "d_value = (800 - 200)**2 / 12\n",
    "print('Среднее значение: {0}'.format(m_value))\n",
    "print('Дисперсия: {0}'.format(d_value))"
   ]
  },
  {
   "cell_type": "markdown",
   "metadata": {},
   "source": [
    "- О случайной непрерывной равномерно распределенной величине B известно, что ее дисперсия равна 0.2.\n",
    "Можно ли найти правую границу величины B и ее среднее значение зная, что левая граница равна 0.5?\n",
    "Если да, найдите ее."
   ]
  },
  {
   "cell_type": "code",
   "execution_count": 11,
   "metadata": {},
   "outputs": [],
   "source": [
    "import math"
   ]
  },
  {
   "cell_type": "code",
   "execution_count": 12,
   "metadata": {},
   "outputs": [
    {
     "name": "stdout",
     "output_type": "stream",
     "text": [
      "Правая граница: 2.049193338482967\n",
      "Среднее значение: 1.2745966692414834\n"
     ]
    }
   ],
   "source": [
    "A_value = 0.5\n",
    "d_value = 0.2\n",
    "B_value = math.sqrt(12 * d_value) + A_value\n",
    "avg_value = (0.5 + B_value) / 2\n",
    "print('Правая граница: {0}'.format(B_value))\n",
    "print('Среднее значение: {0}'.format(avg_value))"
   ]
  },
  {
   "cell_type": "markdown",
   "metadata": {},
   "source": [
    "- Непрерывная случайная величина X распределена нормально и задана плотностью распределения\n",
    "f(x) = (1 / (4 * sqrt(2*pi))) * (exp(-(x+2)**2) / 32).\n",
    "Найдите:\n",
    "а). M(X)\n",
    "б). D(X)\n",
    "в). std(X) (среднее квадратичное отклонение)"
   ]
  },
  {
   "cell_type": "markdown",
   "metadata": {},
   "source": [
    "По формуле нормального распределения получим что: a = - 2; σ = 4."
   ]
  },
  {
   "cell_type": "code",
   "execution_count": 13,
   "metadata": {},
   "outputs": [
    {
     "name": "stdout",
     "output_type": "stream",
     "text": [
      "а). M(X): -2\n",
      "б). D(X): 16\n",
      "в). std(X) (среднее квадратичное отклонение): 4\n"
     ]
    }
   ],
   "source": [
    "a_letter = -2\n",
    "sigma_letter = 4\n",
    "m_value = a_letter\n",
    "d_value = sigma_letter ** 2\n",
    "std_value = sigma_letter\n",
    "print('а). M(X): {0}\\nб). D(X): {1}\\nв). std(X) (среднее квадратичное отклонение): {2}'.format(m_value, d_value, std_value))"
   ]
  },
  {
   "cell_type": "markdown",
   "metadata": {},
   "source": [
    "- Рост взрослого населения города X имеет нормальное распределение.\n",
    "Причем, средний рост равен 174 см, а среднее квадратичное отклонение равно 8 см.\n",
    "Какова вероятность того, что случайным образом выбранный взрослый человек имеет рост:\n",
    "а). больше 182 см\n",
    "б). больше 190 см\n",
    "в). от 166 см до 190 см\n",
    "г). от 166 см до 182 см\n",
    "д). от 158 см до 190 см\n",
    "е). не выше 150 см или не ниже 190 см\n",
    "ё). не выше 150 см или не ниже 198 см\n",
    "ж). ниже 166 см."
   ]
  },
  {
   "cell_type": "code",
   "execution_count": 14,
   "metadata": {},
   "outputs": [],
   "source": [
    "from scipy.stats import norm"
   ]
  },
  {
   "cell_type": "code",
   "execution_count": 15,
   "metadata": {},
   "outputs": [],
   "source": [
    "letter_a = 1 - norm.cdf(1)\n",
    "letter_b = 1 - norm.cdf(2)\n",
    "letter_c = norm.cdf(2) - (1 - norm.cdf(1))\n",
    "letter_d = 2 * norm.cdf(1) - 1\n",
    "letter_e = 2 * norm.cdf(2) - 1\n",
    "letter_f = 1 - norm.cdf(3) + 1 - norm.cdf(2)\n",
    "letter_g = 2 -2 * norm.cdf(3)\n",
    "letter_h = 1 - norm.cdf(1)"
   ]
  },
  {
   "cell_type": "code",
   "execution_count": 16,
   "metadata": {},
   "outputs": [
    {
     "name": "stdout",
     "output_type": "stream",
     "text": [
      "а). 0.15865525393145707\n",
      "б). 0.02275013194817921\n",
      "в). 0.8185946141203637\n",
      "г). 0.6826894921370859\n",
      "д). 0.9544997361036416\n",
      "е). 0.024100029979809423\n",
      "ё). 0.002699796063260207\n",
      "ж). 0.15865525393145707\n",
      "\n"
     ]
    }
   ],
   "source": [
    "print('а). {0}\\nб). {1}\\nв). {2}\\nг). {3}\\nд). {4}\\nе). {5}\\nё). {6}\\nж). {7}\\n'.format(letter_a, letter_b, letter_c, letter_d, letter_e, letter_f,letter_g, letter_h))"
   ]
  },
  {
   "cell_type": "markdown",
   "metadata": {},
   "source": [
    "- На сколько сигм (средних квадратичных отклонений) отклоняется рост человека, равный 190 см, от\n",
    "математического ожидания роста в популяции, в которой M(X) = 178 см и D(X) = 25 кв.см?"
   ]
  },
  {
   "cell_type": "code",
   "execution_count": 21,
   "metadata": {},
   "outputs": [
    {
     "name": "stdout",
     "output_type": "stream",
     "text": [
      "2.4\n"
     ]
    }
   ],
   "source": [
    "std = math.sqrt(25)\n",
    "print((190 - 178) / std)"
   ]
  }
 ],
 "metadata": {
  "kernelspec": {
   "display_name": "Python 3",
   "language": "python",
   "name": "python3"
  },
  "language_info": {
   "codemirror_mode": {
    "name": "ipython",
    "version": 3
   },
   "file_extension": ".py",
   "mimetype": "text/x-python",
   "name": "python",
   "nbconvert_exporter": "python",
   "pygments_lexer": "ipython3",
   "version": "3.7.6"
  }
 },
 "nbformat": 4,
 "nbformat_minor": 4
}
