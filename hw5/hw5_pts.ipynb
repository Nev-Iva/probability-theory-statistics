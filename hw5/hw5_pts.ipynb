{
 "cells": [
  {
   "cell_type": "markdown",
   "metadata": {},
   "source": [
    "### Урок 5. Проверка статистических гипотез. P-значения. Доверительные интервалы. A/B-тестирование"
   ]
  },
  {
   "cell_type": "markdown",
   "metadata": {},
   "source": [
    "- Известно, что генеральная совокупность распределена нормально со средним квадратическим отклонением, равным 16. Найти доверительный интервал для оценки математического ожидания a с надежностью 0.95, если выборочная средняя M = 80, а объем выборки n = 256."
   ]
  },
  {
   "cell_type": "code",
   "execution_count": 3,
   "metadata": {},
   "outputs": [
    {
     "name": "stdout",
     "output_type": "stream",
     "text": [
      "[78.04; 81.96]\n"
     ]
    }
   ],
   "source": [
    "f_letter = (0.95 + 1) / 2\n",
    "c = 1.96\n",
    "bord_1 = 80 - c * 16 / 16\n",
    "bord_2 = 80 + c * 16 / 16\n",
    "print('[{0}; {1}]'.format(bord_1, bord_2))"
   ]
  },
  {
   "cell_type": "markdown",
   "metadata": {},
   "source": [
    "- В результате 10 независимых измерений некоторой величины X, выполненных с одинаковой точностью, получены опытные данные: 6.9, 6.1, 6.2, 6.8, 7.5, 6.3, 6.4, 6.9, 6.7, 6.1 Предполагая, что результаты измерений подчинены нормальному закону распределения вероятностей, оценить истинное значение величины X при помощи доверительного интервала, покрывающего это значение с доверительной вероятностью 0,95. 3,4 задачи решать через тестирование гипотезы"
   ]
  },
  {
   "cell_type": "code",
   "execution_count": 9,
   "metadata": {},
   "outputs": [
    {
     "name": "stdout",
     "output_type": "stream",
     "text": [
      "Среднее: 6.589999999999999,\n",
      "Смещённая дисперсия: 0.1829000000000001,\n",
      "Несмещённая дисперсия: 0.2032222222222223,\n",
      "Среднеквадратичное отклонение: 0.4508017549014448\n",
      "Дельта: 0.32247599969076085\n"
     ]
    }
   ],
   "source": [
    "my_data = [6.9, 6.1, 6.2, 6.8, 7.5, 6.3, 6.4, 6.9, 6.7, 6.1]\n",
    "\n",
    "q_mean = sum(my_data)/len(my_data)\n",
    "var_biased = sum([(x - q_mean) ** 2 for x in my_data]) / len(my_data)\n",
    "var_unbiased = sum([(x - q_mean) ** 2 for x in my_data]) / (len(my_data) - 1)\n",
    "std_x = var_unbiased ** (1/2)\n",
    "\n",
    "print('Среднее: {0},\\nСмещённая дисперсия: {1},\\nНесмещённая дисперсия: {2},\\nСреднеквадратичное отклонение: {3}'.format(q_mean, var_biased, var_unbiased, std_x))\n",
    "delta_x = 2.2621 * std_x / (len(my_data) ** (1 / 2))\n",
    "print('Дельта: {0}'.format(delta_x))"
   ]
  },
  {
   "cell_type": "markdown",
   "metadata": {},
   "source": [
    "- Утверждается, что шарики для подшипников, изготовленные автоматическим станком, имеют средний диаметр 17 мм.\n",
    "Используя односторонний критерий с α=0,05, проверить эту гипотезу, если в выборке из n=100 шариков средний диаметр"
   ]
  },
  {
   "cell_type": "code",
   "execution_count": 15,
   "metadata": {},
   "outputs": [],
   "source": [
    "import math, numpy"
   ]
  },
  {
   "cell_type": "code",
   "execution_count": 16,
   "metadata": {},
   "outputs": [
    {
     "name": "stdout",
     "output_type": "stream",
     "text": [
      "2.5\n"
     ]
    }
   ],
   "source": [
    "z_table = (17.5 - 17) / (2 / math.sqrt(100))\n",
    "print(z_table)"
   ]
  },
  {
   "cell_type": "markdown",
   "metadata": {},
   "source": [
    "z_calc при а=0.05 равно 1.65, z_table > z_calc (2.5 > 1.65).\n",
    "\n",
    "Средний диаметр подшипников равен 17.5, верна альтернативная гипотеза."
   ]
  },
  {
   "cell_type": "markdown",
   "metadata": {},
   "source": [
    "- Продавец утверждает, что средний вес пачки печенья составляет 200 г.\n",
    "Из партии извлечена выборка из 10 пачек. Вес каждой пачки составляет:\n",
    "202, 203, 199, 197, 195, 201, 200, 204, 194, 190.\n",
    "Известно, что их веса распределены нормально.\n",
    "Верно ли утверждение продавца, если учитывать, что доверительная вероятность равна 99%?"
   ]
  },
  {
   "cell_type": "code",
   "execution_count": 20,
   "metadata": {},
   "outputs": [
    {
     "name": "stdout",
     "output_type": "stream",
     "text": [
      "Расчетный критерий Стьюдента: -1.0651074037450896\n"
     ]
    }
   ],
   "source": [
    "my_data = numpy.array([202, 203, 199, 197, 195, 201, 200, 204, 194, 190])\n",
    "\n",
    "mean_x = my_data.mean()\n",
    "std_x = my_data.std(ddof=1)\n",
    "len_x = len(my_data)\n",
    "\n",
    "st_ts = (mean_x - 200) / (std_x / math.sqrt(len_x))\n",
    "print('Расчетный критерий Стьюдента: {0}'.format(st_ts))"
   ]
  },
  {
   "cell_type": "markdown",
   "metadata": {},
   "source": [
    "С учетом того, что критерий двухсторонний: alpha_x = 0.01 / 2 = 0.005 \n",
    "\n",
    "Из таблицы при 9й степени свободы: -3.250 < -1.0651074037450896 < 3.250\n",
    "\n",
    "Следовательно, утверждение продавца верно"
   ]
  }
 ],
 "metadata": {
  "kernelspec": {
   "display_name": "Python 3",
   "language": "python",
   "name": "python3"
  },
  "language_info": {
   "codemirror_mode": {
    "name": "ipython",
    "version": 3
   },
   "file_extension": ".py",
   "mimetype": "text/x-python",
   "name": "python",
   "nbconvert_exporter": "python",
   "pygments_lexer": "ipython3",
   "version": "3.7.6"
  }
 },
 "nbformat": 4,
 "nbformat_minor": 4
}
